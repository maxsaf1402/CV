{
 "cells": [
  {
   "cell_type": "code",
   "execution_count": 1,
   "id": "d2616289",
   "metadata": {},
   "outputs": [],
   "source": [
    "import cv2\n",
    "import numpy as np\n",
    "import math\n",
    "import scipy.spatial.distance"
   ]
  },
  {
   "cell_type": "code",
   "execution_count": 2,
   "id": "7cacddaa",
   "metadata": {},
   "outputs": [],
   "source": [
    "# Фильтр Калмана для предсказания траектории\n",
    "\n",
    "kf = cv2.KalmanFilter(4,2)\n",
    "kf.measurementMatrix = np.array([[1,0,0,0],[0,1,0,0]], np.float32)\n",
    "kf.transitionMatrix = np.array([[1,0,1,0],[0,1,0,1],[0,0,1,0], [0,0,0,1]], np.float32)"
   ]
  },
  {
   "cell_type": "code",
   "execution_count": 3,
   "id": "255df8d4",
   "metadata": {},
   "outputs": [],
   "source": [
    "# Функция оценки позиции объекта\n",
    "\n",
    "def predict(x, y):\n",
    "\n",
    "    measured = np.array([[np.float32(x)], [np.float32(y)]])\n",
    "    kf.correct(measured)\n",
    "    predicted = kf.predict()\n",
    "    x1, y1 = int(predicted[0]), int(predicted[1])\n",
    "    \n",
    "    return x1, y1"
   ]
  },
  {
   "cell_type": "code",
   "execution_count": 4,
   "id": "f337393e",
   "metadata": {},
   "outputs": [],
   "source": [
    "# Функция детектирования\n",
    "\n",
    "def detect(frame, object_detector):\n",
    "    \n",
    "    mask = object_detector.apply(frame)\n",
    "    _, mask = cv2.threshold(mask, 254, 255, cv2.THRESH_BINARY)\n",
    "    \n",
    "    # Распознование контуров\n",
    "    contours, _ = cv2.findContours(mask, cv2.RETR_TREE, cv2.CHAIN_APPROX_SIMPLE)\n",
    "    detections = []\n",
    "    box = (0,0,0,0)\n",
    "    for contour in contours:\n",
    "        # Отчиста от мелких элементов\n",
    "        area = cv2.contourArea(contour)\n",
    "        if area > 1000:\n",
    "#             cv2.drawContours(frame, [contour], -1, (0, 255, 0), 2)\n",
    "            (x, y, w, h) = cv2.boundingRect(contour)\n",
    "            box = (x, y, w, h)\n",
    "            detections.append([x, y, w, h])\n",
    "            \n",
    "    return detections, mask, box"
   ]
  },
  {
   "cell_type": "code",
   "execution_count": 5,
   "id": "b3676bbf",
   "metadata": {},
   "outputs": [],
   "source": [
    "# Трекинг объектов\n",
    "\n",
    "class DistTracker:\n",
    "    def __init__(self):\n",
    "        \n",
    "        self.center_points = {}\n",
    "        # Счётчик для новых объектов\n",
    "        self.id_count = 1\n",
    "\n",
    "    def update(self, objects_rect):\n",
    "        # Список координат и id объектов\n",
    "        objects_list = []\n",
    "\n",
    "        for rect in objects_rect:\n",
    "            x, y, w, h = rect\n",
    "            # Центр объекта\n",
    "            cx = (x + x + w) // 2\n",
    "            cy = (y + y + h) // 2\n",
    "\n",
    "            # Был ли объект ранее обнаружен\n",
    "            same_object_detected = False\n",
    "            for idx, pt in self.center_points.items():\n",
    "                dist = scipy.spatial.distance.euclidean(cx - pt[0], cy - pt[1])\n",
    "\n",
    "                if dist < 40:\n",
    "                    self.center_points[idx] = (cx, cy)\n",
    "#                     print(self.center_points)\n",
    "                    objects_list.append([x, y, w, h, idx])\n",
    "                    same_object_detected = True\n",
    "                    break\n",
    "\n",
    "            # При обнаружении нового объекта, необходимо присвоить ему новый ID\n",
    "            if same_object_detected is False:\n",
    "                self.center_points[self.id_count] = (cx, cy)\n",
    "                objects_list.append([x, y, w, h, self.id_count])\n",
    "                self.id_count += 1\n",
    "\n",
    "        new_center_points = {}\n",
    "        for obj_bb_id in objects_list:\n",
    "            _, _, _, _, object_id = obj_bb_id\n",
    "            center = self.center_points[object_id]\n",
    "            new_center_points[object_id] = center\n",
    "            \n",
    "        self.center_points = new_center_points.copy()\n",
    "        \n",
    "        return objects_list"
   ]
  },
  {
   "cell_type": "code",
   "execution_count": 19,
   "id": "53ab4fbf",
   "metadata": {},
   "outputs": [],
   "source": [
    "tracker = DistTracker()\n",
    "cap = cv2.VideoCapture('balls_3.mp4')\n",
    "object_detector = cv2.createBackgroundSubtractorMOG2(history=100, varThreshold=40)"
   ]
  },
  {
   "cell_type": "code",
   "execution_count": 20,
   "id": "43b77d61",
   "metadata": {
    "scrolled": true
   },
   "outputs": [],
   "source": [
    "while True:\n",
    "    ret, frame = cap.read() \n",
    "    # Выход из цикла при окончании кадров видео\n",
    "    if ret is False:\n",
    "        break\n",
    "        \n",
    "    # 1.Детектирование\n",
    "    detections, mask, box = detect(frame, object_detector)\n",
    "    x,y,w,h = box\n",
    "       \n",
    "    # 2.Трекинг\n",
    "    boxes_ids = tracker.update(detections)\n",
    "    for box_id in boxes_ids:\n",
    "        x, y, w, h, idd = box_id\n",
    "        cv2.putText(frame, str(idd), (x, y - 15), cv2.FONT_HERSHEY_PLAIN, 2, (255, 0, 0), 2)\n",
    "        cv2.rectangle(frame, (x, y), (x + w, y + h), (0, 255, 0), 3)\n",
    "        \n",
    "        # 3.Предсказание\n",
    "        cx = (x + x + w) // 2\n",
    "        cy = (y + y + h) // 2\n",
    "        predicted = predict(cx, cy)\n",
    "        cv2.circle(frame, (cx, cy), 10, (0, 0, 255), 3)\n",
    "        cv2.circle(frame, (predicted[0], predicted[1]), 10, (255, 0, 0), -1)\n",
    "    \n",
    "    cv2.imshow(\"Frame\", frame)\n",
    "    cv2.imshow(\"Mask\", mask)\n",
    "    \n",
    "    key = cv2.waitKey(80)\n",
    "    if key == 27:\n",
    "        break\n",
    "\n",
    "cap.release()\n",
    "cv2.destroyAllWindows()"
   ]
  },
  {
   "cell_type": "code",
   "execution_count": null,
   "id": "6567a481",
   "metadata": {},
   "outputs": [],
   "source": []
  }
 ],
 "metadata": {
  "kernelspec": {
   "display_name": "Python 3 (ipykernel)",
   "language": "python",
   "name": "python3"
  },
  "language_info": {
   "codemirror_mode": {
    "name": "ipython",
    "version": 3
   },
   "file_extension": ".py",
   "mimetype": "text/x-python",
   "name": "python",
   "nbconvert_exporter": "python",
   "pygments_lexer": "ipython3",
   "version": "3.10.3"
  }
 },
 "nbformat": 4,
 "nbformat_minor": 5
}
